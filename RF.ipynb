{
 "cells": [
  {
   "cell_type": "code",
   "execution_count": 1,
   "id": "cbaf2d28-bc43-4057-91b2-f277e3de887b",
   "metadata": {},
   "outputs": [],
   "source": [
    "import numpy as np\n",
    "import pandas as pd\n",
    "import matplotlib.pyplot as plt\n",
    "from joblib import dump, load\n",
    "from sklearn.model_selection import train_test_split, cross_val_score, GridSearchCV\n",
    "from sklearn.preprocessing import StandardScaler\n",
    "from sklearn import metrics, preprocessing\n",
    "from sklearn.ensemble import RandomForestRegressor\n",
    "from sklearn.decomposition import PCA\n",
    "from sklearn.pipeline import Pipeline\n",
    "import shap\n",
    "import os\n"
   ]
  },
  {
   "cell_type": "code",
   "execution_count": 2,
   "id": "96ce3179-d946-42e7-901c-3e09462ff933",
   "metadata": {},
   "outputs": [
    {
     "name": "stdout",
     "output_type": "stream",
     "text": [
      "[1. 0. 0. 0. 1. 0. 0. 0.]\n",
      "    Time/h  Tem/℃  PG/mg  OPD/mg  Solventamount/ml  Deionized_Water  Ethanol  \\\n",
      "0        8    180   6.25    6.25                25              1.0      0.0   \n",
      "1        8    180   6.25    6.25                25              0.0      1.0   \n",
      "2        8    180   0.00    6.25                25              0.0      1.0   \n",
      "3       12    200   0.20    5.00                25              0.0      1.0   \n",
      "4       12    200   0.00    5.00                25              0.0      1.0   \n",
      "..     ...    ...    ...     ...               ...              ...      ...   \n",
      "73       4    180   0.00   15.00                25              1.0      0.0   \n",
      "74       4    120   0.00   15.00                25              1.0      0.0   \n",
      "75       8    120   0.00   20.00                50              0.0      1.0   \n",
      "76       8    120   0.00   15.00                50              0.0      1.0   \n",
      "77       8    120   0.00   10.00                50              0.0      1.0   \n",
      "\n",
      "    Ethylene_glycol  Methanol  Acetic_Acid  Ethylenediamine  \\\n",
      "0               0.0       0.0          1.0              0.0   \n",
      "1               0.0       0.0          1.0              0.0   \n",
      "2               0.0       0.0          1.0              0.0   \n",
      "3               0.0       0.0          1.0              0.0   \n",
      "4               0.0       0.0          1.0              0.0   \n",
      "..              ...       ...          ...              ...   \n",
      "73              0.0       0.0          1.0              0.0   \n",
      "74              0.0       0.0          1.0              0.0   \n",
      "75              0.0       0.0          1.0              0.0   \n",
      "76              0.0       0.0          1.0              0.0   \n",
      "77              0.0       0.0          1.0              0.0   \n",
      "\n",
      "    Hydrogen_Peroxide  NONE  catalystamount/mg  PEAK      INT  \n",
      "0                 0.0   0.0                 15   565   31.430  \n",
      "1                 0.0   0.0                 15   516   24.480  \n",
      "2                 0.0   0.0                 15   597    0.475  \n",
      "3                 0.0   0.0                 15   576    1.124  \n",
      "4                 0.0   0.0                 15   504  145.100  \n",
      "..                ...   ...                ...   ...      ...  \n",
      "73                0.0   0.0                 15     0    0.000  \n",
      "74                0.0   0.0                 15     0    0.000  \n",
      "75                0.0   0.0                 15   535  632.000  \n",
      "76                0.0   0.0                 15   534  786.400  \n",
      "77                0.0   0.0                 15   535  926.900  \n",
      "\n",
      "[78 rows x 16 columns]\n",
      "数据已保存到 'processed_features.csv' 和 'processed_target.csv'\n",
      "(78, 14)\n",
      "(78,)\n"
     ]
    }
   ],
   "source": [
    "def read_data(filename):\n",
    "    f = pd.read_csv(filename)\n",
    "\n",
    "\n",
    "    d = f.loc[:, 'Solvent':'catalyst']  \n",
    "    encoder = preprocessing.OneHotEncoder()\n",
    "    encoder.fit(d)\n",
    "    encoded = encoder.transform(d).toarray()\n",
    "    print(encoded[0])\n",
    "\n",
    "    del f['Solvent']\n",
    "    del f['catalyst']\n",
    "\n",
    "\n",
    "    new_feature_names = [\n",
    "        'Deionized_Water', 'Ethanol', 'Ethylene_glycol', 'Methanol', 'Acetic_Acid', \n",
    "        'Ethylenediamine', 'Hydrogen_Peroxide', 'NONE']\n",
    "    for i in range(encoded.shape[1]):\n",
    "        f.insert(5 + i, new_feature_names[i], encoded[:, i])\n",
    "\n",
    "    print(f)\n",
    "    f.dropna(inplace=True)\n",
    "\n",
    "\n",
    "    X = f.loc[:, 'Time/h':'catalystamount/mg']\n",
    "    xnames = X.columns\n",
    "    Y = f['INT']\n",
    "\n",
    "    print(\"数据已保存到 'processed_features.csv' 和 'processed_target.csv'\")\n",
    "    print(X.shape)\n",
    "    print(Y.shape)\n",
    "\n",
    "    return X, Y, xnames\n",
    "\n",
    "\n",
    "X, Y, xnames = read_data('C:/Users/Hu/work1/step1/HWW.csv')\n"
   ]
  },
  {
   "cell_type": "code",
   "execution_count": 3,
   "id": "6ccf6193-0f20-48e4-ab2c-d5392147b2a2",
   "metadata": {},
   "outputs": [
    {
     "name": "stdout",
     "output_type": "stream",
     "text": [
      "X_train's shape is (46, 14) ; y_train's shape is (46,)\n",
      "X_test's shape is (32, 14) ; y_test's shape is (32,)\n"
     ]
    }
   ],
   "source": [
    "X_train, X_test, y_train, y_test = train_test_split(X, Y, test_size=0.4, random_state=10) \n",
    "print(\"X_train's shape is\", X_train.shape,\"; y_train's shape is\", y_train.shape)\n",
    "print(\"X_test's shape is\", X_test.shape,\"; y_test's shape is\",y_test.shape)\n",
    "scaler = StandardScaler()\n",
    "scaler.fit(X_train)\n",
    "X_train_stand = scaler.transform(X_train) \n",
    "X_test_stand = scaler.transform(X_test) "
   ]
  },
  {
   "cell_type": "code",
   "execution_count": 4,
   "id": "e71e7e1f-436a-46af-984f-3e9e5f04d028",
   "metadata": {},
   "outputs": [],
   "source": [
    "##best select model##\n",
    "#{'bootstrap': True, 'max_depth': 110, 'max_features': 'sqrt', 'min_samples_leaf': 1, 'min_samples_split': 2, 'n_estimators': 80}\n",
    "rf_regressor = RandomForestRegressor(n_estimators=1000,\n",
    "                                      max_features='sqrt',\n",
    "                                      max_depth=None,\n",
    "                                      min_samples_split=2,\n",
    "                                      min_samples_leaf=1,\n",
    "                                      bootstrap=True,\n",
    "                                      random_state=1\n",
    "                                      )\n",
    "model = rf_regressor\n",
    "\n",
    "\n",
    "####fit and predict###\n",
    "rf_regressor.fit(X_train_stand, y_train)\n",
    "y_train_hat = rf_regressor.predict(X_train_stand)\n",
    "y_test_hat = rf_regressor.predict(X_test_stand)\n",
    "# dump(rf_regressor,'model//rfmodel420PCE3.joblib')"
   ]
  },
  {
   "cell_type": "code",
   "execution_count": 5,
   "id": "14acace7-2fbd-4ea7-92a0-94d8e7f559e5",
   "metadata": {},
   "outputs": [
    {
     "data": {
      "image/png": "[encoded data removed]",
      "text/plain": [
       "<Figure size 350x300 with 1 Axes>"
      ]
     },
     "metadata": {},
     "output_type": "display_data"
    }
   ],
   "source": [
    "fontsize = 12\n",
    "\n",
    "\n",
    "plt.figure(figsize=(3.5, 3))\n",
    "\n",
    "\n",
    "plt.style.use('default')\n",
    "\n",
    "\n",
    "plt.rc('xtick', labelsize=fontsize)\n",
    "plt.rc('ytick', labelsize=fontsize)\n",
    "plt.rcParams['font.family'] = \"Arial\"\n",
    "plt.rcParams['font.weight'] = 'bold'  \n",
    "\n",
    "\n",
    "plt.tick_params(axis='both', which='major', width=1.5)  \n",
    "\n",
    "a = plt.scatter(y_train, y_train_hat, s=25, c='#4FBDFF')\n",
    "\n",
    "\n",
    "plt.plot([y_train.min(), y_train.max()], [y_train.min(), y_train.max()], 'k:', lw=3)  \n",
    "\n",
    "\n",
    "plt.xlabel('Observation-PL', fontsize=fontsize, fontweight='bold')  \n",
    "plt.ylabel('Prediction-PL', fontsize=fontsize, fontweight='bold')  \n",
    "\n",
    "\n",
    "\n",
    "\n",
    "b = plt.scatter(y_test, y_test_hat, s=25, c='#F8639F')\n",
    "\n",
    "\n",
    "plt.xlim(right=1000)\n",
    "\n",
    "\n",
    "plt.ylim(top=1000)\n",
    "\n",
    "plt.legend((a, b), ('Train', 'Test'), fontsize=fontsize, handletextpad=0.1, borderpad=0.1, frameon=False, loc='best')\n",
    "\n",
    "\n",
    "for spine in plt.gca().spines.values():\n",
    "    spine.set_linewidth(1.5)  \n",
    "\n",
    "plt.tight_layout()\n",
    "\n",
    "\n",
    "plt.savefig('RF.png', dpi=300, bbox_inches='tight')\n",
    "\n",
    "\n",
    "plt.show()\n"
   ]
  },
  {
   "cell_type": "code",
   "execution_count": null,
   "id": "d4713011-c760-4e76-833a-e91d393da318",
   "metadata": {},
   "outputs": [],
   "source": []
  }
 ],
 "metadata": {
  "kernelspec": {
   "display_name": "Python 3 (ipykernel)",
   "language": "python",
   "name": "python3"
  },
  "language_info": {
   "codemirror_mode": {
    "name": "ipython",
    "version": 3
   },
   "file_extension": ".py",
   "mimetype": "text/x-python",
   "name": "python",
   "nbconvert_exporter": "python",
   "pygments_lexer": "ipython3",
   "version": "3.11.7"
  }
 },
 "nbformat": 4,
 "nbformat_minor": 5
}
