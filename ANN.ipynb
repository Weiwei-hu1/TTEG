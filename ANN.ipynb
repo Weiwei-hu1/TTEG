{
 "cells": [
  {
   "cell_type": "code",
   "execution_count": 1,
   "id": "039c0fbf-4566-4636-b275-4c039b5957b2",
   "metadata": {},
   "outputs": [],
   "source": [
    "import numpy as np\n",
    "import pandas as pd\n",
    "import matplotlib.pyplot as plt\n",
    "from joblib import dump, load\n",
    "from sklearn.model_selection import train_test_split\n",
    "from sklearn.preprocessing import StandardScaler\n",
    "from sklearn import metrics\n",
    "from scipy import stats\n",
    "import tensorflow as tf\n",
    "from tensorflow.keras.models import Sequential\n",
    "from tensorflow.keras.layers import Dense, Dropout\n",
    "from tensorflow.keras.optimizers import Adam\n",
    "import shap\n",
    "from shap import KernelExplainer\n",
    "from sklearn import preprocessing\n"
   ]
  },
  {
   "cell_type": "code",
   "execution_count": 2,
   "id": "e538552e-bbb7-4cd9-a8e9-fdaa3ebced60",
   "metadata": {},
   "outputs": [
    {
     "name": "stdout",
     "output_type": "stream",
     "text": [
      "[1. 0. 0. 0. 1. 0. 0. 0.]\n",
      "    Time/h  Tem/℃  PG/mg  OPD/mg  Solventamount/ml  Deionized_Water  Ethanol  \\\n",
      "0        8    180   6.25    6.25                25              1.0      0.0   \n",
      "1        8    180   6.25    6.25                25              0.0      1.0   \n",
      "2        8    180   0.00    6.25                25              0.0      1.0   \n",
      "3       12    200   0.20    5.00                25              0.0      1.0   \n",
      "4       12    200   0.00    5.00                25              0.0      1.0   \n",
      "..     ...    ...    ...     ...               ...              ...      ...   \n",
      "73       4    180   0.00   15.00                25              1.0      0.0   \n",
      "74       4    120   0.00   15.00                25              1.0      0.0   \n",
      "75       8    120   0.00   20.00                50              0.0      1.0   \n",
      "76       8    120   0.00   15.00                50              0.0      1.0   \n",
      "77       8    120   0.00   10.00                50              0.0      1.0   \n",
      "\n",
      "    Ethylene_glycol  Methanol  Acetic_Acid  Ethylenediamine  \\\n",
      "0               0.0       0.0          1.0              0.0   \n",
      "1               0.0       0.0          1.0              0.0   \n",
      "2               0.0       0.0          1.0              0.0   \n",
      "3               0.0       0.0          1.0              0.0   \n",
      "4               0.0       0.0          1.0              0.0   \n",
      "..              ...       ...          ...              ...   \n",
      "73              0.0       0.0          1.0              0.0   \n",
      "74              0.0       0.0          1.0              0.0   \n",
      "75              0.0       0.0          1.0              0.0   \n",
      "76              0.0       0.0          1.0              0.0   \n",
      "77              0.0       0.0          1.0              0.0   \n",
      "\n",
      "    Hydrogen_Peroxide  NONE  catalystamount/mg  PEAK      INT  \n",
      "0                 0.0   0.0                 15   565   31.430  \n",
      "1                 0.0   0.0                 15   516   24.480  \n",
      "2                 0.0   0.0                 15   597    0.475  \n",
      "3                 0.0   0.0                 15   576    1.124  \n",
      "4                 0.0   0.0                 15   504  145.100  \n",
      "..                ...   ...                ...   ...      ...  \n",
      "73                0.0   0.0                 15     0    0.000  \n",
      "74                0.0   0.0                 15     0    0.000  \n",
      "75                0.0   0.0                 15   535  632.000  \n",
      "76                0.0   0.0                 15   534  786.400  \n",
      "77                0.0   0.0                 15   535  926.900  \n",
      "\n",
      "[78 rows x 16 columns]\n",
      "数据已保存到 'processed_features.csv' 和 'processed_target.csv'\n",
      "(78, 14)\n",
      "(78,)\n",
      "X_train's shape is (66, 14) ; y_train's shape is (66,)\n",
      "X_test's shape is (12, 14) ; y_test's shape is (12,)\n"
     ]
    }
   ],
   "source": [
    "def read_data(filename):\n",
    "    f = pd.read_csv(filename)\n",
    "\n",
    "    d = f.loc[:, 'Solvent':'catalyst']  \n",
    "    encoder = preprocessing.OneHotEncoder()\n",
    "    encoder.fit(d)\n",
    "    encoded = encoder.transform(d).toarray()\n",
    "    print(encoded[0])\n",
    "\n",
    "   \n",
    "    del f['Solvent']\n",
    "    del f['catalyst']\n",
    "\n",
    "\n",
    "    new_feature_names = [\n",
    "        'Deionized_Water', 'Ethanol', 'Ethylene_glycol', 'Methanol', 'Acetic_Acid', \n",
    "        'Ethylenediamine', 'Hydrogen_Peroxide', 'NONE']\n",
    "    for i in range(encoded.shape[1]):\n",
    "        f.insert(5 + i, new_feature_names[i], encoded[:, i])\n",
    "\n",
    "    print(f)\n",
    "    f.dropna(inplace=True)\n",
    "\n",
    "\n",
    "    X = f.loc[:, 'Time/h':'catalystamount/mg']\n",
    "    xnames = X.columns\n",
    "    Y = f['INT']\n",
    "\n",
    "    print(\"'processed_features.csv' and 'processed_target.csv'\")\n",
    "    print(X.shape)\n",
    "    print(Y.shape)\n",
    "\n",
    "    return X, Y, xnames\n",
    "\n",
    "\n",
    "X, Y, xnames = read_data('C:/Users/Hu/work1/step1/HWW.csv')\n",
    "X_train, X_test, y_train, y_test = train_test_split(X, Y, test_size=0.15, random_state=10) \n",
    "print(\"X_train's shape is\", X_train.shape,\"; y_train's shape is\", y_train.shape)\n",
    "print(\"X_test's shape is\", X_test.shape,\"; y_test's shape is\",y_test.shape)\n",
    "scaler = StandardScaler()\n",
    "scaler.fit(X_train)\n",
    "X_train_stand = scaler.transform(X_train) \n",
    "X_test_stand = scaler.transform(X_test) "
   ]
  },
  {
   "cell_type": "code",
   "execution_count": 3,
   "id": "756eaa36-b1d4-4037-b04f-d351f51a496b",
   "metadata": {},
   "outputs": [
    {
     "name": "stderr",
     "output_type": "stream",
     "text": [
      "D:\\anaconda\\Lib\\site-packages\\keras\\src\\layers\\core\\dense.py:87: UserWarning: Do not pass an `input_shape`/`input_dim` argument to a layer. When using Sequential models, prefer using an `Input(shape)` object as the first layer in the model instead.\n",
      "  super().__init__(activity_regularizer=activity_regularizer, **kwargs)\n"
     ]
    },
    {
     "data": {
      "text/html": [
       "<pre style=\"white-space:pre;overflow-x:auto;line-height:normal;font-family:Menlo,'DejaVu Sans Mono',consolas,'Courier New',monospace\"><span style=\"font-weight: bold\">Model: \"sequential\"</span>\n",
       "</pre>\n"
      ],
      "text/plain": [
       "\u001b[1mModel: \"sequential\"\u001b[0m\n"
      ]
     },
     "metadata": {},
     "output_type": "display_data"
    },
    {
     "data": {
      "text/html": [
       "<pre style=\"white-space:pre;overflow-x:auto;line-height:normal;font-family:Menlo,'DejaVu Sans Mono',consolas,'Courier New',monospace\">┏━━━━━━━━━━━━━━━━━━━━━━━━━━━━━━━━━┳━━━━━━━━━━━━━━━━━━━━━━━━┳━━━━━━━━━━━━━━━┓\n",
       "┃<span style=\"font-weight: bold\"> Layer (type)                    </span>┃<span style=\"font-weight: bold\"> Output Shape           </span>┃<span style=\"font-weight: bold\">       Param # </span>┃\n",
       "┡━━━━━━━━━━━━━━━━━━━━━━━━━━━━━━━━━╇━━━━━━━━━━━━━━━━━━━━━━━━╇━━━━━━━━━━━━━━━┩\n",
       "│ dense (<span style=\"color: #0087ff; text-decoration-color: #0087ff\">Dense</span>)                   │ (<span style=\"color: #00d7ff; text-decoration-color: #00d7ff\">None</span>, <span style=\"color: #00af00; text-decoration-color: #00af00\">128</span>)            │         <span style=\"color: #00af00; text-decoration-color: #00af00\">1,920</span> │\n",
       "├─────────────────────────────────┼────────────────────────┼───────────────┤\n",
       "│ dropout (<span style=\"color: #0087ff; text-decoration-color: #0087ff\">Dropout</span>)               │ (<span style=\"color: #00d7ff; text-decoration-color: #00d7ff\">None</span>, <span style=\"color: #00af00; text-decoration-color: #00af00\">128</span>)            │             <span style=\"color: #00af00; text-decoration-color: #00af00\">0</span> │\n",
       "├─────────────────────────────────┼────────────────────────┼───────────────┤\n",
       "│ dense_1 (<span style=\"color: #0087ff; text-decoration-color: #0087ff\">Dense</span>)                 │ (<span style=\"color: #00d7ff; text-decoration-color: #00d7ff\">None</span>, <span style=\"color: #00af00; text-decoration-color: #00af00\">64</span>)             │         <span style=\"color: #00af00; text-decoration-color: #00af00\">8,256</span> │\n",
       "├─────────────────────────────────┼────────────────────────┼───────────────┤\n",
       "│ dropout_1 (<span style=\"color: #0087ff; text-decoration-color: #0087ff\">Dropout</span>)             │ (<span style=\"color: #00d7ff; text-decoration-color: #00d7ff\">None</span>, <span style=\"color: #00af00; text-decoration-color: #00af00\">64</span>)             │             <span style=\"color: #00af00; text-decoration-color: #00af00\">0</span> │\n",
       "├─────────────────────────────────┼────────────────────────┼───────────────┤\n",
       "│ dense_2 (<span style=\"color: #0087ff; text-decoration-color: #0087ff\">Dense</span>)                 │ (<span style=\"color: #00d7ff; text-decoration-color: #00d7ff\">None</span>, <span style=\"color: #00af00; text-decoration-color: #00af00\">1</span>)              │            <span style=\"color: #00af00; text-decoration-color: #00af00\">65</span> │\n",
       "└─────────────────────────────────┴────────────────────────┴───────────────┘\n",
       "</pre>\n"
      ],
      "text/plain": [
       "┏━━━━━━━━━━━━━━━━━━━━━━━━━━━━━━━━━┳━━━━━━━━━━━━━━━━━━━━━━━━┳━━━━━━━━━━━━━━━┓\n",
       "┃\u001b[1m \u001b[0m\u001b[1mLayer (type)                   \u001b[0m\u001b[1m \u001b[0m┃\u001b[1m \u001b[0m\u001b[1mOutput Shape          \u001b[0m\u001b[1m \u001b[0m┃\u001b[1m \u001b[0m\u001b[1m      Param #\u001b[0m\u001b[1m \u001b[0m┃\n",
       "┡━━━━━━━━━━━━━━━━━━━━━━━━━━━━━━━━━╇━━━━━━━━━━━━━━━━━━━━━━━━╇━━━━━━━━━━━━━━━┩\n",
       "│ dense (\u001b[38;5;33mDense\u001b[0m)                   │ (\u001b[38;5;45mNone\u001b[0m, \u001b[38;5;34m128\u001b[0m)            │         \u001b[38;5;34m1,920\u001b[0m │\n",
       "├─────────────────────────────────┼────────────────────────┼───────────────┤\n",
       "│ dropout (\u001b[38;5;33mDropout\u001b[0m)               │ (\u001b[38;5;45mNone\u001b[0m, \u001b[38;5;34m128\u001b[0m)            │             \u001b[38;5;34m0\u001b[0m │\n",
       "├─────────────────────────────────┼────────────────────────┼───────────────┤\n",
       "│ dense_1 (\u001b[38;5;33mDense\u001b[0m)                 │ (\u001b[38;5;45mNone\u001b[0m, \u001b[38;5;34m64\u001b[0m)             │         \u001b[38;5;34m8,256\u001b[0m │\n",
       "├─────────────────────────────────┼────────────────────────┼───────────────┤\n",
       "│ dropout_1 (\u001b[38;5;33mDropout\u001b[0m)             │ (\u001b[38;5;45mNone\u001b[0m, \u001b[38;5;34m64\u001b[0m)             │             \u001b[38;5;34m0\u001b[0m │\n",
       "├─────────────────────────────────┼────────────────────────┼───────────────┤\n",
       "│ dense_2 (\u001b[38;5;33mDense\u001b[0m)                 │ (\u001b[38;5;45mNone\u001b[0m, \u001b[38;5;34m1\u001b[0m)              │            \u001b[38;5;34m65\u001b[0m │\n",
       "└─────────────────────────────────┴────────────────────────┴───────────────┘\n"
      ]
     },
     "metadata": {},
     "output_type": "display_data"
    },
    {
     "data": {
      "text/html": [
       "<pre style=\"white-space:pre;overflow-x:auto;line-height:normal;font-family:Menlo,'DejaVu Sans Mono',consolas,'Courier New',monospace\"><span style=\"font-weight: bold\"> Total params: </span><span style=\"color: #00af00; text-decoration-color: #00af00\">10,241</span> (40.00 KB)\n",
       "</pre>\n"
      ],
      "text/plain": [
       "\u001b[1m Total params: \u001b[0m\u001b[38;5;34m10,241\u001b[0m (40.00 KB)\n"
      ]
     },
     "metadata": {},
     "output_type": "display_data"
    },
    {
     "data": {
      "text/html": [
       "<pre style=\"white-space:pre;overflow-x:auto;line-height:normal;font-family:Menlo,'DejaVu Sans Mono',consolas,'Courier New',monospace\"><span style=\"font-weight: bold\"> Trainable params: </span><span style=\"color: #00af00; text-decoration-color: #00af00\">10,241</span> (40.00 KB)\n",
       "</pre>\n"
      ],
      "text/plain": [
       "\u001b[1m Trainable params: \u001b[0m\u001b[38;5;34m10,241\u001b[0m (40.00 KB)\n"
      ]
     },
     "metadata": {},
     "output_type": "display_data"
    },
    {
     "data": {
      "text/html": [
       "<pre style=\"white-space:pre;overflow-x:auto;line-height:normal;font-family:Menlo,'DejaVu Sans Mono',consolas,'Courier New',monospace\"><span style=\"font-weight: bold\"> Non-trainable params: </span><span style=\"color: #00af00; text-decoration-color: #00af00\">0</span> (0.00 B)\n",
       "</pre>\n"
      ],
      "text/plain": [
       "\u001b[1m Non-trainable params: \u001b[0m\u001b[38;5;34m0\u001b[0m (0.00 B)\n"
      ]
     },
     "metadata": {},
     "output_type": "display_data"
    }
   ],
   "source": [
    "def build_model():\n",
    "    model = Sequential([\n",
    "        Dense(128, activation='relu', input_shape=(X_train.shape[1],)),\n",
    "        Dropout(0.3),\n",
    "        Dense(64, activation='relu'),\n",
    "        Dropout(0.2),\n",
    "        Dense(1)  \n",
    "    ])\n",
    "    model.compile(\n",
    "        optimizer=Adam(learning_rate=0.01),\n",
    "        loss='mse',\n",
    "        metrics=['mae']\n",
    "    )\n",
    "    return model\n",
    "\n",
    "model = build_model()\n",
    "model.summary()"
   ]
  },
  {
   "cell_type": "code",
   "execution_count": 4,
   "id": "df1f0929-e0fb-47f5-a06d-7e0f9231b0b9",
   "metadata": {},
   "outputs": [
    {
     "name": "stdout",
     "output_type": "stream",
     "text": [
      "\u001b[1m3/3\u001b[0m \u001b[32m━━━━━━━━━━━━━━━━━━━━\u001b[0m\u001b[37m\u001b[0m \u001b[1m0s\u001b[0m 9ms/step \n",
      "\u001b[1m1/1\u001b[0m \u001b[32m━━━━━━━━━━━━━━━━━━━━\u001b[0m\u001b[37m\u001b[0m \u001b[1m0s\u001b[0m 10ms/step\n"
     ]
    }
   ],
   "source": [
    "history = model.fit(\n",
    "    X_train, y_train,\n",
    "    epochs=400,\n",
    "    batch_size=5,\n",
    "    validation_split=0.2,\n",
    "    verbose=0\n",
    ")\n",
    "\n",
    "\n",
    "y_train_hat = model.predict(X_train).flatten()\n",
    "y_test_hat = model.predict(X_test).flatten()\n"
   ]
  },
  {
   "cell_type": "code",
   "execution_count": 8,
   "id": "0dd11eff-d4e8-45ef-95b5-f74c021bcd4a",
   "metadata": {},
   "outputs": [
    {
     "data": {
      "image/png": "[encoded data removed]",
      "text/plain": [
       "<Figure size 350x300 with 1 Axes>"
      ]
     },
     "metadata": {},
     "output_type": "display_data"
    }
   ],
   "source": [
    "fontsize = 12\n",
    "\n",
    "plt.figure(figsize=(3.5, 3))\n",
    "\n",
    "\n",
    "plt.style.use('default')\n",
    "\n",
    "\n",
    "plt.rc('xtick', labelsize=fontsize)\n",
    "plt.rc('ytick', labelsize=fontsize)\n",
    "plt.rcParams['font.family'] = \"Arial\"\n",
    "plt.rcParams['font.weight'] = 'bold'\n",
    "\n",
    "\n",
    "plt.tick_params(axis='both', which='major', width=1.5)\n",
    "\n",
    "\n",
    "a = plt.scatter(y_train, y_train_hat, s=25, c='#4FBDFF')\n",
    "\n",
    "plt.plot([y_train.min(), y_train.max()], [y_train.min(), y_train.max()], 'k:', lw=3)  \n",
    "\n",
    "plt.xlabel('Observation-PL', fontsize=fontsize, fontweight='bold')  \n",
    "plt.ylabel('Prediction-PL', fontsize=fontsize, fontweight='bold') \n",
    "\n",
    "\n",
    "b = plt.scatter(y_test, y_test_hat, s=25, c='#F8639F')\n",
    "\n",
    "\n",
    "plt.xlim(right=1300)\n",
    "\n",
    "\n",
    "plt.ylim(top=1300)\n",
    "\n",
    "\n",
    "plt.legend((a, b), ('Train', 'Test'), fontsize=fontsize, handletextpad=0.1, borderpad=0.1, frameon=False, loc='best')\n",
    "\n",
    "\n",
    "for spine in plt.gca().spines.values():\n",
    "    spine.set_linewidth(2) \n",
    "\n",
    "\n",
    "plt.tight_layout()\n",
    "\n",
    "\n",
    "plt.savefig('ANN.png', dpi=300, bbox_inches='tight')\n",
    "\n",
    "\n",
    "plt.show()\n"
   ]
  },
  {
   "cell_type": "code",
   "execution_count": null,
   "id": "8d56ff56-7d56-4a38-8e9c-13eebe5e45fe",
   "metadata": {},
   "outputs": [],
   "source": []
  }
 ],
 "metadata": {
  "kernelspec": {
   "display_name": "Python 3 (ipykernel)",
   "language": "python",
   "name": "python3"
  },
  "language_info": {
   "codemirror_mode": {
    "name": "ipython",
    "version": 3
   },
   "file_extension": ".py",
   "mimetype": "text/x-python",
   "name": "python",
   "nbconvert_exporter": "python",
   "pygments_lexer": "ipython3",
   "version": "3.11.7"
  }
 },
 "nbformat": 4,
 "nbformat_minor": 5
}
